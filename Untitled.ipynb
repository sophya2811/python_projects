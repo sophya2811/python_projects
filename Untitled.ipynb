{
 "cells": [
  {
   "cell_type": "code",
   "execution_count": 4,
   "id": "b3e490ab",
   "metadata": {},
   "outputs": [
    {
     "data": {
      "text/plain": [
       "{'Amala': 500, 'Banga': 350, 'Rice': 100, 'spag': 200, 'pie': 400}"
      ]
     },
     "execution_count": 4,
     "metadata": {},
     "output_type": "execute_result"
    }
   ],
   "source": [
    "on_sale={'Amala':500,'Banga':350,'Rice':100,'spag':200,'pie':400}\n",
    "print(on_sale)"
   ]
  },
  {
   "cell_type": "code",
   "execution_count": 8,
   "id": "4ccfa8cb",
   "metadata": {},
   "outputs": [
    {
     "name": "stdout",
     "output_type": "stream",
     "text": [
      "Overwriting stream.py\n"
     ]
    }
   ],
   "source": [
    "%%writefile stream.py\n",
    "import streamlit as st\n",
    "st.header('WELCOME TO MY APP')\n",
    "x=st.number_input('Put your first number here')\n",
    "y=st.number_input('put your secound number here')\n",
    "z=x+y\n",
    "on_sale={'Amala':500,'Banga':350,'Rice':100,'spag':200,'pie':400}\n",
    "food=on_sale.keys()\n",
    "selection=st.selectbox('please select your food',food)\n",
    "price=on_sale.values()\n",
    "st.write(f'your purchase of {selection} cost #{price}')\n"
   ]
  },
  {
   "cell_type": "code",
   "execution_count": 6,
   "id": "026b1cac",
   "metadata": {},
   "outputs": [
    {
     "name": "stdout",
     "output_type": "stream",
     "text": [
      "^C\n"
     ]
    }
   ],
   "source": [
    "!streamlit run stream.py"
   ]
  },
  {
   "cell_type": "code",
   "execution_count": null,
   "id": "235b9989",
   "metadata": {},
   "outputs": [],
   "source": []
  }
 ],
 "metadata": {
  "kernelspec": {
   "display_name": "Python 3 (ipykernel)",
   "language": "python",
   "name": "python3"
  },
  "language_info": {
   "codemirror_mode": {
    "name": "ipython",
    "version": 3
   },
   "file_extension": ".py",
   "mimetype": "text/x-python",
   "name": "python",
   "nbconvert_exporter": "python",
   "pygments_lexer": "ipython3",
   "version": "3.9.7"
  }
 },
 "nbformat": 4,
 "nbformat_minor": 5
}
